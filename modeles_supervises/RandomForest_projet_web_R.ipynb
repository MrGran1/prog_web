{
  "nbformat": 4,
  "nbformat_minor": 0,
  "metadata": {
    "colab": {
      "provenance": []
    },
    "kernelspec": {
      "name": "ir",
      "display_name": "R"
    },
    "language_info": {
      "name": "R"
    }
  },
  "cells": [
    {
      "cell_type": "code",
      "source": [
        "install.packages(\"randomForest\")\n",
        "install.packages(\"caTools\")\n",
        "install.packages(\"caret\") #confusionMatrix\n",
        "install.packages(\"yardstick\")\n",
        "install.packages(\"ggplot2\")\n",
        "install.packages(\"ROCR\")"
      ],
      "metadata": {
        "colab": {
          "base_uri": "https://localhost:8080/"
        },
        "id": "WFRRBqN8DBsx",
        "outputId": "1508fd7e-9d20-41d1-a087-92e04844ad38"
      },
      "execution_count": 2,
      "outputs": [
        {
          "output_type": "stream",
          "name": "stderr",
          "text": [
            "Installing package into ‘/usr/local/lib/R/site-library’\n",
            "(as ‘lib’ is unspecified)\n",
            "\n",
            "Installing package into ‘/usr/local/lib/R/site-library’\n",
            "(as ‘lib’ is unspecified)\n",
            "\n",
            "Installing package into ‘/usr/local/lib/R/site-library’\n",
            "(as ‘lib’ is unspecified)\n",
            "\n",
            "Installing package into ‘/usr/local/lib/R/site-library’\n",
            "(as ‘lib’ is unspecified)\n",
            "\n",
            "Installing package into ‘/usr/local/lib/R/site-library’\n",
            "(as ‘lib’ is unspecified)\n",
            "\n",
            "Installing package into ‘/usr/local/lib/R/site-library’\n",
            "(as ‘lib’ is unspecified)\n",
            "\n"
          ]
        }
      ]
    },
    {
      "cell_type": "code",
      "source": [
        "library(dplyr)\n",
        "library(randomForest)\n",
        "library(caTools)\n",
        "library(caret)\n",
        "\n",
        "library(yardstick)\n",
        "library(ggplot2)\n",
        "\n",
        "library(ROCR)"
      ],
      "metadata": {
        "id": "b_G4Us0lMkvv",
        "colab": {
          "base_uri": "https://localhost:8080/"
        },
        "outputId": "b0ecc722-d04f-4b04-a4c2-dcf2e9feceb7"
      },
      "execution_count": 3,
      "outputs": [
        {
          "output_type": "stream",
          "name": "stderr",
          "text": [
            "\n",
            "Attaching package: ‘dplyr’\n",
            "\n",
            "\n",
            "The following objects are masked from ‘package:stats’:\n",
            "\n",
            "    filter, lag\n",
            "\n",
            "\n",
            "The following objects are masked from ‘package:base’:\n",
            "\n",
            "    intersect, setdiff, setequal, union\n",
            "\n",
            "\n",
            "randomForest 4.7-1.1\n",
            "\n",
            "Type rfNews() to see new features/changes/bug fixes.\n",
            "\n",
            "\n",
            "Attaching package: ‘randomForest’\n",
            "\n",
            "\n",
            "The following object is masked from ‘package:dplyr’:\n",
            "\n",
            "    combine\n",
            "\n",
            "\n",
            "Loading required package: ggplot2\n",
            "\n",
            "\n",
            "Attaching package: ‘ggplot2’\n",
            "\n",
            "\n",
            "The following object is masked from ‘package:randomForest’:\n",
            "\n",
            "    margin\n",
            "\n",
            "\n",
            "Loading required package: lattice\n",
            "\n",
            "\n",
            "Attaching package: ‘yardstick’\n",
            "\n",
            "\n",
            "The following objects are masked from ‘package:caret’:\n",
            "\n",
            "    precision, recall, sensitivity, specificity\n",
            "\n",
            "\n"
          ]
        }
      ]
    },
    {
      "cell_type": "code",
      "execution_count": 4,
      "metadata": {
        "id": "73Q6Xx5nAFkl"
      },
      "outputs": [],
      "source": [
        "donnees <- read.table(\"maj_data.data\", header = TRUE, sep = \",\")"
      ]
    },
    {
      "cell_type": "code",
      "source": [
        "head(donnees)"
      ],
      "metadata": {
        "colab": {
          "base_uri": "https://localhost:8080/",
          "height": 306
        },
        "id": "ugdFoTCNK8Ua",
        "outputId": "a347f44b-58ba-4aef-8d9e-188722abb77a"
      },
      "execution_count": 5,
      "outputs": [
        {
          "output_type": "display_data",
          "data": {
            "text/html": [
              "<table class=\"dataframe\">\n",
              "<caption>A data.frame: 6 × 21</caption>\n",
              "<thead>\n",
              "\t<tr><th></th><th scope=col>X</th><th scope=col>X2</th><th scope=col>X30</th><th scope=col>X2.1</th><th scope=col>X1</th><th scope=col>X2.2</th><th scope=col>X2.3</th><th scope=col>X2.4</th><th scope=col>X2.5</th><th scope=col>X1.1</th><th scope=col>⋯</th><th scope=col>X2.7</th><th scope=col>X2.8</th><th scope=col>X2.9</th><th scope=col>X2.10</th><th scope=col>X1.00</th><th scope=col>X85</th><th scope=col>X18</th><th scope=col>X4.0</th><th scope=col>X.</th><th scope=col>X1.2</th></tr>\n",
              "\t<tr><th></th><th scope=col>&lt;int&gt;</th><th scope=col>&lt;int&gt;</th><th scope=col>&lt;int&gt;</th><th scope=col>&lt;int&gt;</th><th scope=col>&lt;int&gt;</th><th scope=col>&lt;int&gt;</th><th scope=col>&lt;int&gt;</th><th scope=col>&lt;int&gt;</th><th scope=col>&lt;int&gt;</th><th scope=col>&lt;int&gt;</th><th scope=col>⋯</th><th scope=col>&lt;int&gt;</th><th scope=col>&lt;int&gt;</th><th scope=col>&lt;int&gt;</th><th scope=col>&lt;int&gt;</th><th scope=col>&lt;dbl&gt;</th><th scope=col>&lt;dbl&gt;</th><th scope=col>&lt;int&gt;</th><th scope=col>&lt;dbl&gt;</th><th scope=col>&lt;dbl&gt;</th><th scope=col>&lt;int&gt;</th></tr>\n",
              "</thead>\n",
              "<tbody>\n",
              "\t<tr><th scope=row>1</th><td>1</td><td>2</td><td>50</td><td>1</td><td>1</td><td>2</td><td>1</td><td>2</td><td>2</td><td>1</td><td>⋯</td><td>2</td><td>2</td><td>2</td><td>2</td><td>0.9</td><td>135.000</td><td> 42</td><td>3.5</td><td>61.85227</td><td>1</td></tr>\n",
              "\t<tr><th scope=row>2</th><td>2</td><td>2</td><td>78</td><td>1</td><td>2</td><td>2</td><td>1</td><td>2</td><td>2</td><td>2</td><td>⋯</td><td>2</td><td>2</td><td>2</td><td>2</td><td>0.7</td><td> 96.000</td><td> 32</td><td>4.0</td><td>61.85227</td><td>1</td></tr>\n",
              "\t<tr><th scope=row>3</th><td>4</td><td>2</td><td>34</td><td>1</td><td>2</td><td>2</td><td>2</td><td>2</td><td>2</td><td>2</td><td>⋯</td><td>2</td><td>2</td><td>2</td><td>2</td><td>1.0</td><td>105.488</td><td>200</td><td>4.0</td><td>61.85227</td><td>1</td></tr>\n",
              "\t<tr><th scope=row>4</th><td>5</td><td>2</td><td>34</td><td>1</td><td>2</td><td>2</td><td>2</td><td>2</td><td>2</td><td>2</td><td>⋯</td><td>2</td><td>2</td><td>2</td><td>2</td><td>0.9</td><td> 95.000</td><td> 28</td><td>4.0</td><td>75.00000</td><td>1</td></tr>\n",
              "\t<tr><th scope=row>5</th><td>8</td><td>2</td><td>39</td><td>1</td><td>2</td><td>2</td><td>1</td><td>2</td><td>2</td><td>2</td><td>⋯</td><td>2</td><td>2</td><td>2</td><td>2</td><td>0.7</td><td>105.488</td><td> 48</td><td>4.4</td><td>61.85227</td><td>1</td></tr>\n",
              "\t<tr><th scope=row>6</th><td>9</td><td>2</td><td>30</td><td>1</td><td>2</td><td>2</td><td>2</td><td>2</td><td>2</td><td>2</td><td>⋯</td><td>2</td><td>2</td><td>2</td><td>2</td><td>1.0</td><td>105.488</td><td>120</td><td>3.9</td><td>61.85227</td><td>1</td></tr>\n",
              "</tbody>\n",
              "</table>\n"
            ],
            "text/markdown": "\nA data.frame: 6 × 21\n\n| <!--/--> | X &lt;int&gt; | X2 &lt;int&gt; | X30 &lt;int&gt; | X2.1 &lt;int&gt; | X1 &lt;int&gt; | X2.2 &lt;int&gt; | X2.3 &lt;int&gt; | X2.4 &lt;int&gt; | X2.5 &lt;int&gt; | X1.1 &lt;int&gt; | ⋯ ⋯ | X2.7 &lt;int&gt; | X2.8 &lt;int&gt; | X2.9 &lt;int&gt; | X2.10 &lt;int&gt; | X1.00 &lt;dbl&gt; | X85 &lt;dbl&gt; | X18 &lt;int&gt; | X4.0 &lt;dbl&gt; | X. &lt;dbl&gt; | X1.2 &lt;int&gt; |\n|---|---|---|---|---|---|---|---|---|---|---|---|---|---|---|---|---|---|---|---|---|---|\n| 1 | 1 | 2 | 50 | 1 | 1 | 2 | 1 | 2 | 2 | 1 | ⋯ | 2 | 2 | 2 | 2 | 0.9 | 135.000 |  42 | 3.5 | 61.85227 | 1 |\n| 2 | 2 | 2 | 78 | 1 | 2 | 2 | 1 | 2 | 2 | 2 | ⋯ | 2 | 2 | 2 | 2 | 0.7 |  96.000 |  32 | 4.0 | 61.85227 | 1 |\n| 3 | 4 | 2 | 34 | 1 | 2 | 2 | 2 | 2 | 2 | 2 | ⋯ | 2 | 2 | 2 | 2 | 1.0 | 105.488 | 200 | 4.0 | 61.85227 | 1 |\n| 4 | 5 | 2 | 34 | 1 | 2 | 2 | 2 | 2 | 2 | 2 | ⋯ | 2 | 2 | 2 | 2 | 0.9 |  95.000 |  28 | 4.0 | 75.00000 | 1 |\n| 5 | 8 | 2 | 39 | 1 | 2 | 2 | 1 | 2 | 2 | 2 | ⋯ | 2 | 2 | 2 | 2 | 0.7 | 105.488 |  48 | 4.4 | 61.85227 | 1 |\n| 6 | 9 | 2 | 30 | 1 | 2 | 2 | 2 | 2 | 2 | 2 | ⋯ | 2 | 2 | 2 | 2 | 1.0 | 105.488 | 120 | 3.9 | 61.85227 | 1 |\n\n",
            "text/latex": "A data.frame: 6 × 21\n\\begin{tabular}{r|lllllllllllllllllllll}\n  & X & X2 & X30 & X2.1 & X1 & X2.2 & X2.3 & X2.4 & X2.5 & X1.1 & ⋯ & X2.7 & X2.8 & X2.9 & X2.10 & X1.00 & X85 & X18 & X4.0 & X. & X1.2\\\\\n  & <int> & <int> & <int> & <int> & <int> & <int> & <int> & <int> & <int> & <int> & ⋯ & <int> & <int> & <int> & <int> & <dbl> & <dbl> & <int> & <dbl> & <dbl> & <int>\\\\\n\\hline\n\t1 & 1 & 2 & 50 & 1 & 1 & 2 & 1 & 2 & 2 & 1 & ⋯ & 2 & 2 & 2 & 2 & 0.9 & 135.000 &  42 & 3.5 & 61.85227 & 1\\\\\n\t2 & 2 & 2 & 78 & 1 & 2 & 2 & 1 & 2 & 2 & 2 & ⋯ & 2 & 2 & 2 & 2 & 0.7 &  96.000 &  32 & 4.0 & 61.85227 & 1\\\\\n\t3 & 4 & 2 & 34 & 1 & 2 & 2 & 2 & 2 & 2 & 2 & ⋯ & 2 & 2 & 2 & 2 & 1.0 & 105.488 & 200 & 4.0 & 61.85227 & 1\\\\\n\t4 & 5 & 2 & 34 & 1 & 2 & 2 & 2 & 2 & 2 & 2 & ⋯ & 2 & 2 & 2 & 2 & 0.9 &  95.000 &  28 & 4.0 & 75.00000 & 1\\\\\n\t5 & 8 & 2 & 39 & 1 & 2 & 2 & 1 & 2 & 2 & 2 & ⋯ & 2 & 2 & 2 & 2 & 0.7 & 105.488 &  48 & 4.4 & 61.85227 & 1\\\\\n\t6 & 9 & 2 & 30 & 1 & 2 & 2 & 2 & 2 & 2 & 2 & ⋯ & 2 & 2 & 2 & 2 & 1.0 & 105.488 & 120 & 3.9 & 61.85227 & 1\\\\\n\\end{tabular}\n",
            "text/plain": [
              "  X X2 X30 X2.1 X1 X2.2 X2.3 X2.4 X2.5 X1.1 ⋯ X2.7 X2.8 X2.9 X2.10 X1.00\n",
              "1 1 2  50  1    1  2    1    2    2    1    ⋯ 2    2    2    2     0.9  \n",
              "2 2 2  78  1    2  2    1    2    2    2    ⋯ 2    2    2    2     0.7  \n",
              "3 4 2  34  1    2  2    2    2    2    2    ⋯ 2    2    2    2     1.0  \n",
              "4 5 2  34  1    2  2    2    2    2    2    ⋯ 2    2    2    2     0.9  \n",
              "5 8 2  39  1    2  2    1    2    2    2    ⋯ 2    2    2    2     0.7  \n",
              "6 9 2  30  1    2  2    2    2    2    2    ⋯ 2    2    2    2     1.0  \n",
              "  X85     X18 X4.0 X.       X1.2\n",
              "1 135.000  42 3.5  61.85227 1   \n",
              "2  96.000  32 4.0  61.85227 1   \n",
              "3 105.488 200 4.0  61.85227 1   \n",
              "4  95.000  28 4.0  75.00000 1   \n",
              "5 105.488  48 4.4  61.85227 1   \n",
              "6 105.488 120 3.9  61.85227 1   "
            ]
          },
          "metadata": {}
        }
      ]
    },
    {
      "cell_type": "code",
      "source": [
        "print(colnames(donnees))"
      ],
      "metadata": {
        "colab": {
          "base_uri": "https://localhost:8080/"
        },
        "id": "lmG3J5YeJkUp",
        "outputId": "3ad3df99-6362-45fc-e963-1cda295042ad"
      },
      "execution_count": 9,
      "outputs": [
        {
          "output_type": "stream",
          "name": "stdout",
          "text": [
            " [1] \"X\"     \"X2\"    \"X30\"   \"X2.1\"  \"X1\"    \"X2.2\"  \"X2.3\"  \"X2.4\"  \"X2.5\" \n",
            "[10] \"X1.1\"  \"X2.6\"  \"X2.7\"  \"X2.8\"  \"X2.9\"  \"X2.10\" \"X1.00\" \"X85\"   \"X18\"  \n",
            "[19] \"X4.0\"  \"X.\"    \"X1.2\" \n"
          ]
        }
      ]
    },
    {
      "cell_type": "code",
      "source": [
        "#On identifie automatiquement les variables potentielles dépendantes\n",
        "variables_dependantes_potentielles <- character(0)\n",
        "\n",
        "for (col in names(donnees)) {\n",
        "  unique_vals <- unique(donnees[[col]])\n",
        "\n",
        "  #On vérifie si la variable a seulement deux niveaux (binaire)\n",
        "  if (length(unique_vals) == 2) {\n",
        "    variables_dependantes_potentielles <- c(variables_dependantes_potentielles, col)\n",
        "  }\n",
        "}\n",
        "\n",
        "#On affiche les variables potentielles dépendantes\n",
        "print(variables_dependantes_potentielles)"
      ],
      "metadata": {
        "colab": {
          "base_uri": "https://localhost:8080/"
        },
        "id": "h5eK_j-agMpD",
        "outputId": "887f8c50-19fb-4ce0-9c8c-e05f085bdb43"
      },
      "execution_count": 11,
      "outputs": [
        {
          "output_type": "stream",
          "name": "stdout",
          "text": [
            " [1] \"X2\"    \"X2.1\"  \"X1\"    \"X2.2\"  \"X2.3\"  \"X2.4\"  \"X2.5\"  \"X1.1\"  \"X2.6\" \n",
            "[10] \"X2.7\"  \"X2.8\"  \"X2.9\"  \"X2.10\" \"X1.2\" \n"
          ]
        }
      ]
    },
    {
      "cell_type": "code",
      "source": [
        "#Fonction permettant l'application du modèle RandomForest\n",
        "# parametres : le dataset, le paramètre d'interet\n",
        "\n",
        "fonctionRF <- function(donnees, interet) {\n",
        "\n",
        "  set.seed(123)\n",
        "\n",
        "  #Faire de la variable dependante un facteur (categorique)\n",
        "  #donnees[[interet]] pour donnees$interet\n",
        "  donnees[[interet]] <- as.factor(donnees[[interet]])\n",
        "\n",
        "  #echantillonnage trainset et testset\n",
        "  ind <- sample(2, nrow(donnees), replace = TRUE, prob=c(0.7, 0.3))\n",
        "  data_train <- donnees[ind == 1,]\n",
        "  data_test <- donnees[ind == 2,]\n",
        "\n",
        "\n",
        "  #construction du modele\n",
        "  rf <- randomForest(as.formula(paste(interet, \"~ .\")), data=data_train, ntree=5000, mtry = 2)\n",
        "  print(rf)\n",
        "  cat(\"\\n\\n\")\n",
        "\n",
        "  #prediction\n",
        "  pred <- predict(rf, data_test)\n",
        "\n",
        "  #Matrice de confusion\n",
        "  mat_conf <- table(observed = data_test[[interet]], predicted = pred)\n",
        "  cat(\"Matrice de condusion sur de nouvelles données:\\n\\n\")\n",
        "  print(mat_conf)\n",
        "\n",
        "  return(list(rf, data_train, data_test, mat_conf))\n",
        "}"
      ],
      "metadata": {
        "id": "u1K3HWw6L5Vj"
      },
      "execution_count": 65,
      "outputs": []
    },
    {
      "cell_type": "code",
      "source": [
        "model_rf <- fonctionRF(donnees, \"X1.1\")\n",
        "\n",
        "donnees_rf <- model_rf[[1]]\n",
        "donnees_train <- model_rf[[2]]\n",
        "donnees_test <- model_rf[[3]]\n",
        "mat_c <- model_rf[[4]]"
      ],
      "metadata": {
        "id": "uA6rFMFqMGq-",
        "colab": {
          "base_uri": "https://localhost:8080/"
        },
        "outputId": "f67b94dc-1668-45b5-f4ca-423290500120"
      },
      "execution_count": 66,
      "outputs": [
        {
          "output_type": "stream",
          "name": "stdout",
          "text": [
            "\n",
            "Call:\n",
            " randomForest(formula = as.formula(paste(interet, \"~ .\")), data = data_train,      ntree = 5000, mtry = 2) \n",
            "               Type of random forest: classification\n",
            "                     Number of trees: 5000\n",
            "No. of variables tried at each split: 2\n",
            "\n",
            "        OOB estimate of  error rate: 18.68%\n",
            "Confusion matrix:\n",
            "  1  2 class.error\n",
            "1 0 17           1\n",
            "2 0 74           0\n",
            "\n",
            "\n",
            "Matrice de condusion sur de nouvelles données:\n",
            "\n",
            "        predicted\n",
            "observed  1  2\n",
            "       1  1  4\n",
            "       2  0 32\n"
          ]
        }
      ]
    },
    {
      "cell_type": "code",
      "source": [
        "getPrecision_Recall_FScore <- function(mat_conf) {\n",
        "  #On extrait les valeurs de la matrice de confusion\n",
        "  tp <- mat_conf[2, 2]  # True Positives\n",
        "  fp <- mat_conf[1, 2]  # False Positives\n",
        "  fn <- mat_conf[2, 1]  # False Negatives\n",
        "\n",
        "  print(tp)\n",
        "  print(fp)\n",
        "  print(fn)\n",
        "\n",
        "  # Calculer la précision, le rappel et le F-score\n",
        "  precision <- tp / (tp + fp)\n",
        "  recall <- tp / (tp + fn)\n",
        "  fscore <- 2 * (precision * recall) / (precision + recall)\n",
        "\n",
        "\n",
        "  # Afficher les résultats\n",
        "  cat(\"Precision:\", precision, \"\\n\")\n",
        "  cat(\"Recall:\", recall, \"\\n\")\n",
        "  cat(\"Fscore:\", fscore, \"\\n\")\n",
        "\n",
        "  return(c(precision,recall,fscore))\n",
        "}"
      ],
      "metadata": {
        "id": "LwekbdKKMrp-"
      },
      "execution_count": 14,
      "outputs": []
    },
    {
      "cell_type": "code",
      "source": [
        "res <- getPrecision_Recall_FScore(mat_c)"
      ],
      "metadata": {
        "colab": {
          "base_uri": "https://localhost:8080/"
        },
        "id": "H_amtB35QNk_",
        "outputId": "9ce17c54-7b50-4c1a-ed15-b32184dd2053"
      },
      "execution_count": 67,
      "outputs": [
        {
          "output_type": "stream",
          "name": "stdout",
          "text": [
            "[1] 32\n",
            "[1] 4\n",
            "[1] 0\n",
            "Precision: 0.8888889 \n",
            "Recall: 1 \n",
            "Fscore: 0.9411765 \n"
          ]
        }
      ]
    },
    {
      "cell_type": "code",
      "source": [
        "afficheROC <- function(rf,donnee,interet){\n",
        "\n",
        "  pred1 <- predict(rf,type = \"prob\")\n",
        "\n",
        "  print(dim(pred1))\n",
        "  print(dim(donnee))\n",
        "\n",
        "  perf <- prediction(pred1[,2], donnee)\n",
        "\n",
        "\n",
        "  #AUC\n",
        "  auc <- performance(perf, \"auc\")\n",
        "  auc\n",
        "\n",
        "  #TPR FPR\n",
        "  pred3 <- performance(perf, \"tpr\",\"fpr\")\n",
        "\n",
        "  #ROC curve\n",
        "  plot(pred3,main=\"ROC Curve pour le Random Forest\",col=2,lwd=2)\n",
        "  abline(a=0,b=1,lwd=2,lty=2,col=\"gray\")\n",
        "}"
      ],
      "metadata": {
        "id": "dvcRw7KCQUP0"
      },
      "execution_count": 89,
      "outputs": []
    },
    {
      "cell_type": "code",
      "source": [
        "afficheROC <- function(rf,donnees_test,interet){\n",
        "\n",
        "  #Prédiction des probabilités avec le modèle de forêt aléatoire sur le jeu de données de test\n",
        "  pred_prob <- predict(rf, newdata = donnees_test, type = \"prob\")\n",
        "\n",
        "  #Extraction des probabilités associées à la classe positive (2ème colonne)\n",
        "  pred_positive <- pred_prob[, 2]\n",
        "\n",
        "  #Obtention des vraies étiquettes (valeurs de la variable cible) à partir du jeu de données de test\n",
        "  true_labels <- donnees_test[[interet]]\n",
        "\n",
        "  #Création d'un objet de performance en utilisant les probabilités prédites et les vraies étiquettes\n",
        "  perf <- prediction(pred_positive, true_labels)\n",
        "\n",
        "  #AUC\n",
        "  auc <- performance(perf, \"auc\")\n",
        "  cat(\"AUC = \", auc@y.values[[1]])\n",
        "\n",
        "  #TPR FPR\n",
        "  pred3 <- performance(perf, \"tpr\",\"fpr\")\n",
        "\n",
        "  #ROC curve\n",
        "  plot(pred3,main=\"ROC Curve pour le Random Forest\",col=2,lwd=2)\n",
        "  abline(a=0,b=1,lwd=2,lty=2,col=\"gray\")\n",
        "}"
      ],
      "metadata": {
        "id": "svF8wm6TmKNa"
      },
      "execution_count": 108,
      "outputs": []
    },
    {
      "cell_type": "code",
      "source": [
        "afficheROC(donnees_rf,donnees_test,\"X1.1\")"
      ],
      "metadata": {
        "colab": {
          "base_uri": "https://localhost:8080/",
          "height": 454
        },
        "id": "TJMcozvonHyl",
        "outputId": "84121215-9329-4f7e-b7b9-c9e36569ac9c"
      },
      "execution_count": 109,
      "outputs": [
        {
          "output_type": "stream",
          "name": "stdout",
          "text": [
            "AUC =  0.7375"
          ]
        },
        {
          "output_type": "display_data",
          "data": {
            "text/plain": [
              "Plot with title “ROC Curve pour le Random Forest”"
            ],
            "image/png": "[encoded data removed]"
          },
          "metadata": {
            "image/png": {
              "width": 420,
              "height": 420
            }
          }
        }
      ]
    },
    {
      "cell_type": "code",
      "source": [],
      "metadata": {
        "id": "TpufjbKrrWdm"
      },
      "execution_count": null,
      "outputs": []
    }
  ]
}