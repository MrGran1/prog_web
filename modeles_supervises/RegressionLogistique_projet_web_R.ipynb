{
  "nbformat": 4,
  "nbformat_minor": 0,
  "metadata": {
    "colab": {
      "provenance": []
    },
    "kernelspec": {
      "name": "ir",
      "display_name": "R"
    },
    "language_info": {
      "name": "R"
    }
  },
  "cells": [
    {
      "cell_type": "code",
      "execution_count": null,
      "metadata": {
        "id": "0MSDenlzyyGO",
        "colab": {
          "base_uri": "https://localhost:8080/"
        },
        "outputId": "0cb023dd-b7b3-4b24-8577-08b9120bd659"
      },
      "outputs": [
        {
          "output_type": "stream",
          "name": "stderr",
          "text": [
            "Installing package into ‘/usr/local/lib/R/site-library’\n",
            "(as ‘lib’ is unspecified)\n",
            "\n",
            "also installing the dependency ‘bitops’\n",
            "\n",
            "\n",
            "Installing package into ‘/usr/local/lib/R/site-library’\n",
            "(as ‘lib’ is unspecified)\n",
            "\n",
            "also installing the dependencies ‘listenv’, ‘parallelly’, ‘future’, ‘globals’, ‘shape’, ‘future.apply’, ‘numDeriv’, ‘progressr’, ‘SQUAREM’, ‘diagram’, ‘lava’, ‘prodlim’, ‘proxy’, ‘iterators’, ‘Rcpp’, ‘clock’, ‘gower’, ‘hardhat’, ‘ipred’, ‘timeDate’, ‘e1071’, ‘foreach’, ‘ModelMetrics’, ‘plyr’, ‘pROC’, ‘recipes’, ‘reshape2’\n",
            "\n",
            "\n",
            "Installing package into ‘/usr/local/lib/R/site-library’\n",
            "(as ‘lib’ is unspecified)\n",
            "\n",
            "Installing package into ‘/usr/local/lib/R/site-library’\n",
            "(as ‘lib’ is unspecified)\n",
            "\n",
            "also installing the dependencies ‘gtools’, ‘gplots’\n",
            "\n",
            "\n"
          ]
        }
      ],
      "source": [
        "install.packages(\"caTools\")\n",
        "install.packages(\"caret\")\n",
        "install.packages(\"e1071\")\n",
        "install.packages(\"ROCR\")\n",
        "install.packages(\"pROC\")"
      ]
    },
    {
      "cell_type": "code",
      "source": [
        "library(caTools)\n",
        "library(caret)\n",
        "library(e1071)\n",
        "library(ROCR)\n",
        "library(pROC)"
      ],
      "metadata": {
        "id": "O0BFlyKTH0BI",
        "colab": {
          "base_uri": "https://localhost:8080/"
        },
        "outputId": "211158db-1511-4811-99be-50680e52304f"
      },
      "execution_count": 85,
      "outputs": [
        {
          "output_type": "stream",
          "name": "stderr",
          "text": [
            "Type 'citation(\"pROC\")' for a citation.\n",
            "\n",
            "\n",
            "Attaching package: ‘pROC’\n",
            "\n",
            "\n",
            "The following objects are masked from ‘package:stats’:\n",
            "\n",
            "    cov, smooth, var\n",
            "\n",
            "\n"
          ]
        }
      ]
    },
    {
      "cell_type": "code",
      "source": [
        "donnees <- read.table(\"maj_data.data\", header = TRUE, sep = \",\")"
      ],
      "metadata": {
        "id": "QYqbhfURH2vM"
      },
      "execution_count": 30,
      "outputs": []
    },
    {
      "cell_type": "code",
      "source": [
        "head(donnees)"
      ],
      "metadata": {
        "colab": {
          "base_uri": "https://localhost:8080/",
          "height": 306
        },
        "id": "Tn1HcC02IoqR",
        "outputId": "21c32e95-c9e7-45f3-dd92-7dde5c06f587"
      },
      "execution_count": 31,
      "outputs": [
        {
          "output_type": "display_data",
          "data": {
            "text/html": [
              "<table class=\"dataframe\">\n",
              "<caption>A data.frame: 6 × 21</caption>\n",
              "<thead>\n",
              "\t<tr><th></th><th scope=col>X</th><th scope=col>X2</th><th scope=col>X30</th><th scope=col>X2.1</th><th scope=col>X1</th><th scope=col>X2.2</th><th scope=col>X2.3</th><th scope=col>X2.4</th><th scope=col>X2.5</th><th scope=col>X1.1</th><th scope=col>⋯</th><th scope=col>X2.7</th><th scope=col>X2.8</th><th scope=col>X2.9</th><th scope=col>X2.10</th><th scope=col>X1.00</th><th scope=col>X85</th><th scope=col>X18</th><th scope=col>X4.0</th><th scope=col>X.</th><th scope=col>X1.2</th></tr>\n",
              "\t<tr><th></th><th scope=col>&lt;int&gt;</th><th scope=col>&lt;int&gt;</th><th scope=col>&lt;int&gt;</th><th scope=col>&lt;int&gt;</th><th scope=col>&lt;int&gt;</th><th scope=col>&lt;int&gt;</th><th scope=col>&lt;int&gt;</th><th scope=col>&lt;int&gt;</th><th scope=col>&lt;int&gt;</th><th scope=col>&lt;int&gt;</th><th scope=col>⋯</th><th scope=col>&lt;int&gt;</th><th scope=col>&lt;int&gt;</th><th scope=col>&lt;int&gt;</th><th scope=col>&lt;int&gt;</th><th scope=col>&lt;dbl&gt;</th><th scope=col>&lt;dbl&gt;</th><th scope=col>&lt;int&gt;</th><th scope=col>&lt;dbl&gt;</th><th scope=col>&lt;dbl&gt;</th><th scope=col>&lt;int&gt;</th></tr>\n",
              "</thead>\n",
              "<tbody>\n",
              "\t<tr><th scope=row>1</th><td>1</td><td>2</td><td>50</td><td>1</td><td>1</td><td>2</td><td>1</td><td>2</td><td>2</td><td>1</td><td>⋯</td><td>2</td><td>2</td><td>2</td><td>2</td><td>0.9</td><td>135.000</td><td> 42</td><td>3.5</td><td>61.85227</td><td>1</td></tr>\n",
              "\t<tr><th scope=row>2</th><td>2</td><td>2</td><td>78</td><td>1</td><td>2</td><td>2</td><td>1</td><td>2</td><td>2</td><td>2</td><td>⋯</td><td>2</td><td>2</td><td>2</td><td>2</td><td>0.7</td><td> 96.000</td><td> 32</td><td>4.0</td><td>61.85227</td><td>1</td></tr>\n",
              "\t<tr><th scope=row>3</th><td>4</td><td>2</td><td>34</td><td>1</td><td>2</td><td>2</td><td>2</td><td>2</td><td>2</td><td>2</td><td>⋯</td><td>2</td><td>2</td><td>2</td><td>2</td><td>1.0</td><td>105.488</td><td>200</td><td>4.0</td><td>61.85227</td><td>1</td></tr>\n",
              "\t<tr><th scope=row>4</th><td>5</td><td>2</td><td>34</td><td>1</td><td>2</td><td>2</td><td>2</td><td>2</td><td>2</td><td>2</td><td>⋯</td><td>2</td><td>2</td><td>2</td><td>2</td><td>0.9</td><td> 95.000</td><td> 28</td><td>4.0</td><td>75.00000</td><td>1</td></tr>\n",
              "\t<tr><th scope=row>5</th><td>8</td><td>2</td><td>39</td><td>1</td><td>2</td><td>2</td><td>1</td><td>2</td><td>2</td><td>2</td><td>⋯</td><td>2</td><td>2</td><td>2</td><td>2</td><td>0.7</td><td>105.488</td><td> 48</td><td>4.4</td><td>61.85227</td><td>1</td></tr>\n",
              "\t<tr><th scope=row>6</th><td>9</td><td>2</td><td>30</td><td>1</td><td>2</td><td>2</td><td>2</td><td>2</td><td>2</td><td>2</td><td>⋯</td><td>2</td><td>2</td><td>2</td><td>2</td><td>1.0</td><td>105.488</td><td>120</td><td>3.9</td><td>61.85227</td><td>1</td></tr>\n",
              "</tbody>\n",
              "</table>\n"
            ],
            "text/markdown": "\nA data.frame: 6 × 21\n\n| <!--/--> | X &lt;int&gt; | X2 &lt;int&gt; | X30 &lt;int&gt; | X2.1 &lt;int&gt; | X1 &lt;int&gt; | X2.2 &lt;int&gt; | X2.3 &lt;int&gt; | X2.4 &lt;int&gt; | X2.5 &lt;int&gt; | X1.1 &lt;int&gt; | ⋯ ⋯ | X2.7 &lt;int&gt; | X2.8 &lt;int&gt; | X2.9 &lt;int&gt; | X2.10 &lt;int&gt; | X1.00 &lt;dbl&gt; | X85 &lt;dbl&gt; | X18 &lt;int&gt; | X4.0 &lt;dbl&gt; | X. &lt;dbl&gt; | X1.2 &lt;int&gt; |\n|---|---|---|---|---|---|---|---|---|---|---|---|---|---|---|---|---|---|---|---|---|---|\n| 1 | 1 | 2 | 50 | 1 | 1 | 2 | 1 | 2 | 2 | 1 | ⋯ | 2 | 2 | 2 | 2 | 0.9 | 135.000 |  42 | 3.5 | 61.85227 | 1 |\n| 2 | 2 | 2 | 78 | 1 | 2 | 2 | 1 | 2 | 2 | 2 | ⋯ | 2 | 2 | 2 | 2 | 0.7 |  96.000 |  32 | 4.0 | 61.85227 | 1 |\n| 3 | 4 | 2 | 34 | 1 | 2 | 2 | 2 | 2 | 2 | 2 | ⋯ | 2 | 2 | 2 | 2 | 1.0 | 105.488 | 200 | 4.0 | 61.85227 | 1 |\n| 4 | 5 | 2 | 34 | 1 | 2 | 2 | 2 | 2 | 2 | 2 | ⋯ | 2 | 2 | 2 | 2 | 0.9 |  95.000 |  28 | 4.0 | 75.00000 | 1 |\n| 5 | 8 | 2 | 39 | 1 | 2 | 2 | 1 | 2 | 2 | 2 | ⋯ | 2 | 2 | 2 | 2 | 0.7 | 105.488 |  48 | 4.4 | 61.85227 | 1 |\n| 6 | 9 | 2 | 30 | 1 | 2 | 2 | 2 | 2 | 2 | 2 | ⋯ | 2 | 2 | 2 | 2 | 1.0 | 105.488 | 120 | 3.9 | 61.85227 | 1 |\n\n",
            "text/latex": "A data.frame: 6 × 21\n\\begin{tabular}{r|lllllllllllllllllllll}\n  & X & X2 & X30 & X2.1 & X1 & X2.2 & X2.3 & X2.4 & X2.5 & X1.1 & ⋯ & X2.7 & X2.8 & X2.9 & X2.10 & X1.00 & X85 & X18 & X4.0 & X. & X1.2\\\\\n  & <int> & <int> & <int> & <int> & <int> & <int> & <int> & <int> & <int> & <int> & ⋯ & <int> & <int> & <int> & <int> & <dbl> & <dbl> & <int> & <dbl> & <dbl> & <int>\\\\\n\\hline\n\t1 & 1 & 2 & 50 & 1 & 1 & 2 & 1 & 2 & 2 & 1 & ⋯ & 2 & 2 & 2 & 2 & 0.9 & 135.000 &  42 & 3.5 & 61.85227 & 1\\\\\n\t2 & 2 & 2 & 78 & 1 & 2 & 2 & 1 & 2 & 2 & 2 & ⋯ & 2 & 2 & 2 & 2 & 0.7 &  96.000 &  32 & 4.0 & 61.85227 & 1\\\\\n\t3 & 4 & 2 & 34 & 1 & 2 & 2 & 2 & 2 & 2 & 2 & ⋯ & 2 & 2 & 2 & 2 & 1.0 & 105.488 & 200 & 4.0 & 61.85227 & 1\\\\\n\t4 & 5 & 2 & 34 & 1 & 2 & 2 & 2 & 2 & 2 & 2 & ⋯ & 2 & 2 & 2 & 2 & 0.9 &  95.000 &  28 & 4.0 & 75.00000 & 1\\\\\n\t5 & 8 & 2 & 39 & 1 & 2 & 2 & 1 & 2 & 2 & 2 & ⋯ & 2 & 2 & 2 & 2 & 0.7 & 105.488 &  48 & 4.4 & 61.85227 & 1\\\\\n\t6 & 9 & 2 & 30 & 1 & 2 & 2 & 2 & 2 & 2 & 2 & ⋯ & 2 & 2 & 2 & 2 & 1.0 & 105.488 & 120 & 3.9 & 61.85227 & 1\\\\\n\\end{tabular}\n",
            "text/plain": [
              "  X X2 X30 X2.1 X1 X2.2 X2.3 X2.4 X2.5 X1.1 ⋯ X2.7 X2.8 X2.9 X2.10 X1.00\n",
              "1 1 2  50  1    1  2    1    2    2    1    ⋯ 2    2    2    2     0.9  \n",
              "2 2 2  78  1    2  2    1    2    2    2    ⋯ 2    2    2    2     0.7  \n",
              "3 4 2  34  1    2  2    2    2    2    2    ⋯ 2    2    2    2     1.0  \n",
              "4 5 2  34  1    2  2    2    2    2    2    ⋯ 2    2    2    2     0.9  \n",
              "5 8 2  39  1    2  2    1    2    2    2    ⋯ 2    2    2    2     0.7  \n",
              "6 9 2  30  1    2  2    2    2    2    2    ⋯ 2    2    2    2     1.0  \n",
              "  X85     X18 X4.0 X.       X1.2\n",
              "1 135.000  42 3.5  61.85227 1   \n",
              "2  96.000  32 4.0  61.85227 1   \n",
              "3 105.488 200 4.0  61.85227 1   \n",
              "4  95.000  28 4.0  75.00000 1   \n",
              "5 105.488  48 4.4  61.85227 1   \n",
              "6 105.488 120 3.9  61.85227 1   "
            ]
          },
          "metadata": {}
        }
      ]
    },
    {
      "cell_type": "code",
      "source": [
        "print(colnames(donnees))"
      ],
      "metadata": {
        "colab": {
          "base_uri": "https://localhost:8080/"
        },
        "id": "I7h3uPFJIv5F",
        "outputId": "ccb3c47b-5b14-40e6-ba4c-5e669ce61570"
      },
      "execution_count": 32,
      "outputs": [
        {
          "output_type": "stream",
          "name": "stdout",
          "text": [
            " [1] \"X\"     \"X2\"    \"X30\"   \"X2.1\"  \"X1\"    \"X2.2\"  \"X2.3\"  \"X2.4\"  \"X2.5\" \n",
            "[10] \"X1.1\"  \"X2.6\"  \"X2.7\"  \"X2.8\"  \"X2.9\"  \"X2.10\" \"X1.00\" \"X85\"   \"X18\"  \n",
            "[19] \"X4.0\"  \"X.\"    \"X1.2\" \n"
          ]
        }
      ]
    },
    {
      "cell_type": "code",
      "source": [
        "#On trie les variables potentielles dépendantes et potentielles indépendantes\n",
        "variables_dependantes_potentielles <- character(0)\n",
        "variables_independantes_potentielles <- character(0)\n",
        "\n",
        "for (col in names(donnees)) {\n",
        "  unique_vals <- unique(donnees[[col]])\n",
        "\n",
        "  #On vérifie si la variable a seulement deux niveaux (binaire)\n",
        "  if (length(unique_vals) == 2) {\n",
        "    variables_dependantes_potentielles <- c(variables_dependantes_potentielles, col)\n",
        "  }\n",
        "  else{\n",
        "    variables_independantes_potentielles <- c(variables_independantes_potentielles, col)\n",
        "  }\n",
        "\n",
        "\n",
        "}\n",
        "\n",
        "#On affiche les variables potentielles dépendantes\n",
        "print(variables_dependantes_potentielles)\n",
        "cat('\\n\\n')\n",
        "#On affiche les variables potentielles indépendantes\n",
        "print(variables_independantes_potentielles)"
      ],
      "metadata": {
        "colab": {
          "base_uri": "https://localhost:8080/"
        },
        "id": "ac6oTnt4Lq8q",
        "outputId": "390201bf-6f53-43b7-811a-9e62954d67e6"
      },
      "execution_count": 33,
      "outputs": [
        {
          "output_type": "stream",
          "name": "stdout",
          "text": [
            " [1] \"X2\"    \"X2.1\"  \"X1\"    \"X2.2\"  \"X2.3\"  \"X2.4\"  \"X2.5\"  \"X1.1\"  \"X2.6\" \n",
            "[10] \"X2.7\"  \"X2.8\"  \"X2.9\"  \"X2.10\" \"X1.2\" \n",
            "\n",
            "\n",
            "[1] \"X\"     \"X30\"   \"X1.00\" \"X85\"   \"X18\"   \"X4.0\"  \"X.\"   \n"
          ]
        }
      ]
    },
    {
      "cell_type": "code",
      "source": [
        "param_interet <- \"X1.2\""
      ],
      "metadata": {
        "id": "R1vL8eUI1QUd"
      },
      "execution_count": 34,
      "outputs": []
    },
    {
      "cell_type": "code",
      "source": [
        "param_independant_1 <- \"X30\"\n",
        "param_independant_2 <- \"X18\"\n",
        "\n",
        "param_independants <- c(param_independant_1, param_independant_2)\n",
        "print(param_independants)"
      ],
      "metadata": {
        "colab": {
          "base_uri": "https://localhost:8080/"
        },
        "id": "E0L6LAQl-OoA",
        "outputId": "bba82e64-7416-4af7-d590-cf39fee6ad0a"
      },
      "execution_count": 35,
      "outputs": [
        {
          "output_type": "stream",
          "name": "stdout",
          "text": [
            "[1] \"X30\" \"X18\"\n"
          ]
        }
      ]
    },
    {
      "cell_type": "code",
      "source": [
        "head(donnees[param_interet])"
      ],
      "metadata": {
        "colab": {
          "base_uri": "https://localhost:8080/",
          "height": 321
        },
        "id": "kaxdCVbbO6xo",
        "outputId": "4d97f263-a652-4a0d-9483-51e5c384a319"
      },
      "execution_count": 36,
      "outputs": [
        {
          "output_type": "display_data",
          "data": {
            "text/html": [
              "<table class=\"dataframe\">\n",
              "<caption>A data.frame: 6 × 1</caption>\n",
              "<thead>\n",
              "\t<tr><th></th><th scope=col>X1.2</th></tr>\n",
              "\t<tr><th></th><th scope=col>&lt;int&gt;</th></tr>\n",
              "</thead>\n",
              "<tbody>\n",
              "\t<tr><th scope=row>1</th><td>1</td></tr>\n",
              "\t<tr><th scope=row>2</th><td>1</td></tr>\n",
              "\t<tr><th scope=row>3</th><td>1</td></tr>\n",
              "\t<tr><th scope=row>4</th><td>1</td></tr>\n",
              "\t<tr><th scope=row>5</th><td>1</td></tr>\n",
              "\t<tr><th scope=row>6</th><td>1</td></tr>\n",
              "</tbody>\n",
              "</table>\n"
            ],
            "text/markdown": "\nA data.frame: 6 × 1\n\n| <!--/--> | X1.2 &lt;int&gt; |\n|---|---|\n| 1 | 1 |\n| 2 | 1 |\n| 3 | 1 |\n| 4 | 1 |\n| 5 | 1 |\n| 6 | 1 |\n\n",
            "text/latex": "A data.frame: 6 × 1\n\\begin{tabular}{r|l}\n  & X1.2\\\\\n  & <int>\\\\\n\\hline\n\t1 & 1\\\\\n\t2 & 1\\\\\n\t3 & 1\\\\\n\t4 & 1\\\\\n\t5 & 1\\\\\n\t6 & 1\\\\\n\\end{tabular}\n",
            "text/plain": [
              "  X1.2\n",
              "1 1   \n",
              "2 1   \n",
              "3 1   \n",
              "4 1   \n",
              "5 1   \n",
              "6 1   "
            ]
          },
          "metadata": {}
        }
      ]
    },
    {
      "cell_type": "code",
      "source": [
        "head(donnees[param_independant_1])"
      ],
      "metadata": {
        "colab": {
          "base_uri": "https://localhost:8080/",
          "height": 321
        },
        "id": "VTHbhsVR-5is",
        "outputId": "b39d1496-b31a-4b49-a331-f085cf0cef60"
      },
      "execution_count": 37,
      "outputs": [
        {
          "output_type": "display_data",
          "data": {
            "text/html": [
              "<table class=\"dataframe\">\n",
              "<caption>A data.frame: 6 × 1</caption>\n",
              "<thead>\n",
              "\t<tr><th></th><th scope=col>X30</th></tr>\n",
              "\t<tr><th></th><th scope=col>&lt;int&gt;</th></tr>\n",
              "</thead>\n",
              "<tbody>\n",
              "\t<tr><th scope=row>1</th><td>50</td></tr>\n",
              "\t<tr><th scope=row>2</th><td>78</td></tr>\n",
              "\t<tr><th scope=row>3</th><td>34</td></tr>\n",
              "\t<tr><th scope=row>4</th><td>34</td></tr>\n",
              "\t<tr><th scope=row>5</th><td>39</td></tr>\n",
              "\t<tr><th scope=row>6</th><td>30</td></tr>\n",
              "</tbody>\n",
              "</table>\n"
            ],
            "text/markdown": "\nA data.frame: 6 × 1\n\n| <!--/--> | X30 &lt;int&gt; |\n|---|---|\n| 1 | 50 |\n| 2 | 78 |\n| 3 | 34 |\n| 4 | 34 |\n| 5 | 39 |\n| 6 | 30 |\n\n",
            "text/latex": "A data.frame: 6 × 1\n\\begin{tabular}{r|l}\n  & X30\\\\\n  & <int>\\\\\n\\hline\n\t1 & 50\\\\\n\t2 & 78\\\\\n\t3 & 34\\\\\n\t4 & 34\\\\\n\t5 & 39\\\\\n\t6 & 30\\\\\n\\end{tabular}\n",
            "text/plain": [
              "  X30\n",
              "1 50 \n",
              "2 78 \n",
              "3 34 \n",
              "4 34 \n",
              "5 39 \n",
              "6 30 "
            ]
          },
          "metadata": {}
        }
      ]
    },
    {
      "cell_type": "code",
      "source": [
        "head(donnees[param_independant_2])"
      ],
      "metadata": {
        "colab": {
          "base_uri": "https://localhost:8080/",
          "height": 321
        },
        "id": "vzxSnHsw-9P6",
        "outputId": "5900510e-79ee-4d98-861b-fab9cc18e39e"
      },
      "execution_count": 38,
      "outputs": [
        {
          "output_type": "display_data",
          "data": {
            "text/html": [
              "<table class=\"dataframe\">\n",
              "<caption>A data.frame: 6 × 1</caption>\n",
              "<thead>\n",
              "\t<tr><th></th><th scope=col>X18</th></tr>\n",
              "\t<tr><th></th><th scope=col>&lt;int&gt;</th></tr>\n",
              "</thead>\n",
              "<tbody>\n",
              "\t<tr><th scope=row>1</th><td> 42</td></tr>\n",
              "\t<tr><th scope=row>2</th><td> 32</td></tr>\n",
              "\t<tr><th scope=row>3</th><td>200</td></tr>\n",
              "\t<tr><th scope=row>4</th><td> 28</td></tr>\n",
              "\t<tr><th scope=row>5</th><td> 48</td></tr>\n",
              "\t<tr><th scope=row>6</th><td>120</td></tr>\n",
              "</tbody>\n",
              "</table>\n"
            ],
            "text/markdown": "\nA data.frame: 6 × 1\n\n| <!--/--> | X18 &lt;int&gt; |\n|---|---|\n| 1 |  42 |\n| 2 |  32 |\n| 3 | 200 |\n| 4 |  28 |\n| 5 |  48 |\n| 6 | 120 |\n\n",
            "text/latex": "A data.frame: 6 × 1\n\\begin{tabular}{r|l}\n  & X18\\\\\n  & <int>\\\\\n\\hline\n\t1 &  42\\\\\n\t2 &  32\\\\\n\t3 & 200\\\\\n\t4 &  28\\\\\n\t5 &  48\\\\\n\t6 & 120\\\\\n\\end{tabular}\n",
            "text/plain": [
              "  X18\n",
              "1  42\n",
              "2  32\n",
              "3 200\n",
              "4  28\n",
              "5  48\n",
              "6 120"
            ]
          },
          "metadata": {}
        }
      ]
    },
    {
      "cell_type": "code",
      "source": [
        "#Fonction permettant l'application du modèle svm lineaire\n",
        "# parametres : le dataset, le paramètre d'interet\n",
        "\n",
        "fonctionRegressionLogistique<- function(donnees, interet, var_independante_1, var_independante_2) {\n",
        "  set.seed(123)\n",
        "\n",
        "  #Faire de la variable dependante un facteur (categorique)\n",
        "  #donnees[[interet]] pour donnees$interet\n",
        "  donnees[[interet]] <- as.factor(donnees[[interet]])\n",
        "\n",
        "  data_interet <- donnees[, c(interet, var_independante_1, var_independante_2)]\n",
        "\n",
        "  #echantillonnage trainset et testset\n",
        "  indices <- createDataPartition(data_interet[[interet]], p = 0.7, list = FALSE)\n",
        "  data_train <- data_interet[indices, ]\n",
        "  data_test <- data_interet[-indices, ]\n",
        "\n",
        "\n",
        "  #construction du modele\n",
        "\n",
        "  #idee\n",
        "  my_formula <- reformulate(c(var_independante_1, var_independante_2), response = interet)\n",
        "\n",
        "  modele <- glm(formula = my_formula, data = data_train, family = \"binomial\")\n",
        "\n",
        "\n",
        "  print(modele)\n",
        "  #summary(modele)\n",
        "\n",
        "  cat(\"\\n\\n\")\n",
        "\n",
        "  #prediction\n",
        "  pred <- predict(modele, data_test)\n",
        "\n",
        "  #Définir un seuil\n",
        "  seuil <- 0.5\n",
        "\n",
        "  #Convertir les probabilités en classes en fonction du seuil\n",
        "  classes_predites <- ifelse(pred >= seuil, 2, 1)\n",
        "\n",
        "  #Matrice de confusion\n",
        "  mat_conf <- table(observed = data_test[[interet]], predicted = classes_predites)\n",
        "  cat(\"Matrice de confusion sur de nouvelles données:\\n\\n\")\n",
        "  print(mat_conf)\n",
        "\n",
        "  return(list(modele, data_train, data_test, mat_conf))\n",
        "}"
      ],
      "metadata": {
        "id": "T-zS1SAeMMk7"
      },
      "execution_count": 71,
      "outputs": []
    },
    {
      "cell_type": "code",
      "source": [
        "model_log <- fonctionRegressionLogistique(donnees, param_interet, param_independant_1, param_independant_2)\n",
        "\n",
        "donnees_log <- model_log[[1]]\n",
        "donnees_train <- model_log[[2]]\n",
        "donnees_test <- model_log[[3]]\n",
        "mat_c <- model_log[[4]]"
      ],
      "metadata": {
        "colab": {
          "base_uri": "https://localhost:8080/"
        },
        "id": "DXw7yhDaNV6K",
        "outputId": "a738bdca-28fd-473d-a29f-0e4d362dabc8"
      },
      "execution_count": 72,
      "outputs": [
        {
          "output_type": "stream",
          "name": "stdout",
          "text": [
            "\n",
            "Call:  glm(formula = my_formula, family = \"binomial\", data = data_train)\n",
            "\n",
            "Coefficients:\n",
            "(Intercept)          X30          X18  \n",
            "  -1.200607     0.015175     0.004664  \n",
            "\n",
            "Degrees of Freedom: 89 Total (i.e. Null);  87 Residual\n",
            "Null Deviance:\t    123.7 \n",
            "Residual Deviance: 120.7 \tAIC: 126.7\n",
            "\n",
            "\n",
            "[1] 38\n",
            "Matrice de confusion sur de nouvelles données:\n",
            "\n",
            "        predicted\n",
            "observed  1  2\n",
            "       1 20  1\n",
            "       2 17  0\n"
          ]
        }
      ]
    },
    {
      "cell_type": "code",
      "source": [
        "getPrecision_Recall_FScore <- function(mat_conf) {\n",
        "  #On extrait les valeurs de la matrice de confusion\n",
        "  tp <- mat_conf[2, 2]  # True Positives\n",
        "  fp <- mat_conf[1, 2]  # False Positives\n",
        "  fn <- mat_conf[2, 1]  # False Negatives\n",
        "\n",
        "  print(tp)\n",
        "  print(fp)\n",
        "  print(fn)\n",
        "\n",
        "  # Calculer la précision, le rappel et le F-score\n",
        "  precision <- tp / (tp + fp)\n",
        "  recall <- tp / (tp + fn)\n",
        "  fscore <- 2 * (precision * recall) / (precision + recall)\n",
        "\n",
        "\n",
        "  # Afficher les résultats\n",
        "  cat(\"Precision:\", precision, \"\\n\")\n",
        "  cat(\"Recall:\", recall, \"\\n\")\n",
        "  cat(\"Fscore:\", fscore, \"\\n\")\n",
        "\n",
        "  return(c(precision,recall,fscore))\n",
        "}"
      ],
      "metadata": {
        "id": "PARvFuODdxPz"
      },
      "execution_count": 73,
      "outputs": []
    },
    {
      "cell_type": "code",
      "source": [
        "res <- getPrecision_Recall_FScore(mat_c)"
      ],
      "metadata": {
        "colab": {
          "base_uri": "https://localhost:8080/"
        },
        "id": "nTd4o6-ad4Zb",
        "outputId": "83c6d33a-7f94-4009-9753-bfbcccc4ce84"
      },
      "execution_count": 74,
      "outputs": [
        {
          "output_type": "stream",
          "name": "stdout",
          "text": [
            "[1] 0\n",
            "[1] 1\n",
            "[1] 17\n",
            "Precision: 0 \n",
            "Recall: 0 \n",
            "Fscore: NaN \n"
          ]
        }
      ]
    },
    {
      "cell_type": "code",
      "source": [
        "afficheROCRegressionLogistique <- function(modele,donnees_test,interet){\n",
        "\n",
        "  #Prédiction des probabilités avec le modèle svm sur le jeu de données de test\n",
        "  pred_prob <- predict(modele, newdata = donnees_test, type = \"response\")\n",
        "\n",
        "  #Obtention des vraies étiquettes (valeurs de la variable cible) à partir du jeu de données de test\n",
        "  true_labels <- donnees_test[[interet]]\n",
        "\n",
        "  roc_obj <- roc(true_labels, pred_prob)\n",
        "\n",
        "  #AUC\n",
        "  auc <- auc(roc_obj)\n",
        "  cat(\"AUC = \", auc)\n",
        "\n",
        "  #ROC curve\n",
        "  plot(roc_obj,main=\"ROC Curve pour la Régression Logistique\",col=2,lwd=2)\n",
        "  abline(a=0,b=1,lwd=2,lty=2,col=\"gray\")\n",
        "}"
      ],
      "metadata": {
        "id": "r25ZmVlCuIP1"
      },
      "execution_count": 103,
      "outputs": []
    },
    {
      "cell_type": "code",
      "source": [
        "afficheROCRegressionLogistique(donnees_log,donnees_test,param_interet)"
      ],
      "metadata": {
        "colab": {
          "base_uri": "https://localhost:8080/",
          "height": 524
        },
        "id": "gK8wDwu_dTYv",
        "outputId": "4ff9b61b-81a7-4f6c-8f5a-0ca70c74ff68"
      },
      "execution_count": 104,
      "outputs": [
        {
          "output_type": "stream",
          "name": "stderr",
          "text": [
            "Setting levels: control = 1, case = 2\n",
            "\n",
            "Setting direction: controls < cases\n",
            "\n"
          ]
        },
        {
          "output_type": "stream",
          "name": "stdout",
          "text": [
            "AUC =  0.6890756"
          ]
        },
        {
          "output_type": "display_data",
          "data": {
            "text/plain": [
              "Plot with title “ROC Curve pour la Régression Logistique”"
            ],
            "image/png": "[encoded data removed]"
          },
          "metadata": {
            "image/png": {
              "width": 420,
              "height": 420
            }
          }
        }
      ]
    },
    {
      "cell_type": "code",
      "source": [],
      "metadata": {
        "id": "SJee4ChLkerQ"
      },
      "execution_count": null,
      "outputs": []
    }
  ]
}